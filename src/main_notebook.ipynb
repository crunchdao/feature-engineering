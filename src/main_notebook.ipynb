{
 "cells": [
  {
   "cell_type": "code",
   "execution_count": 17,
   "id": "3beb5a8d-5fc8-4ccc-90d6-028bbdf0a889",
   "metadata": {},
   "outputs": [],
   "source": [
    "import pandas as pd\n",
    "import numpy as np\n",
    "\n",
    "import os\n",
    "\n",
    "from class_ import Data\n",
    "from utils.quantization import quantize\n",
    "from targets import tg_process\n",
    "\n",
    "from tqdm.notebook import tqdm\n",
    "tqdm.pandas()\n",
    "import scipy\n",
    "import matplotlib.pyplot as plt"
   ]
  },
  {
   "cell_type": "code",
   "execution_count": 33,
   "id": "fd165255-aac2-47f5-afde-c691d0174194",
   "metadata": {},
   "outputs": [],
   "source": [
    "f_matrix = pd.read_parquet(\"../data/f_matrix.parquet\")\n",
    "b_matrix = pd.read_parquet(\"../data/b_matrix.parquet\")\n",
    "\n",
    "data = Data(f_matrix = f_matrix, b_matrix = b_matrix)"
   ]
  },
  {
   "cell_type": "code",
   "execution_count": 34,
   "id": "d80c6076-19c8-4821-9cb3-f6e8f61f6707",
   "metadata": {},
   "outputs": [
    {
     "data": {
      "text/html": [
       "<div>\n",
       "<style scoped>\n",
       "    .dataframe tbody tr th:only-of-type {\n",
       "        vertical-align: middle;\n",
       "    }\n",
       "\n",
       "    .dataframe tbody tr th {\n",
       "        vertical-align: top;\n",
       "    }\n",
       "\n",
       "    .dataframe thead th {\n",
       "        text-align: right;\n",
       "    }\n",
       "</style>\n",
       "<table border=\"1\" class=\"dataframe\">\n",
       "  <thead>\n",
       "    <tr style=\"text-align: right;\">\n",
       "      <th></th>\n",
       "      <th>date</th>\n",
       "      <th>feature_0</th>\n",
       "      <th>feature_1</th>\n",
       "      <th>feature_2</th>\n",
       "      <th>feature_3</th>\n",
       "      <th>feature_4</th>\n",
       "      <th>feature_5</th>\n",
       "      <th>feature_6</th>\n",
       "    </tr>\n",
       "  </thead>\n",
       "  <tbody>\n",
       "    <tr>\n",
       "      <th>0</th>\n",
       "      <td>2016-02-17</td>\n",
       "      <td>-0.376</td>\n",
       "      <td>-0.699</td>\n",
       "      <td>-0.507</td>\n",
       "      <td>0.4536</td>\n",
       "      <td>-0.0752</td>\n",
       "      <td>-0.2548</td>\n",
       "      <td>-0.191619</td>\n",
       "    </tr>\n",
       "    <tr>\n",
       "      <th>1</th>\n",
       "      <td>2016-02-17</td>\n",
       "      <td>-1.121</td>\n",
       "      <td>1.073</td>\n",
       "      <td>0.234</td>\n",
       "      <td>0.4986</td>\n",
       "      <td>0.0022</td>\n",
       "      <td>0.6890</td>\n",
       "      <td>-0.596857</td>\n",
       "    </tr>\n",
       "    <tr>\n",
       "      <th>2</th>\n",
       "      <td>2016-02-17</td>\n",
       "      <td>-0.384</td>\n",
       "      <td>-0.097</td>\n",
       "      <td>0.100</td>\n",
       "      <td>0.9720</td>\n",
       "      <td>-0.1626</td>\n",
       "      <td>0.1913</td>\n",
       "      <td>0.562714</td>\n",
       "    </tr>\n",
       "    <tr>\n",
       "      <th>3</th>\n",
       "      <td>2016-02-17</td>\n",
       "      <td>-0.343</td>\n",
       "      <td>0.542</td>\n",
       "      <td>0.143</td>\n",
       "      <td>0.1034</td>\n",
       "      <td>-0.6422</td>\n",
       "      <td>-0.1259</td>\n",
       "      <td>0.988381</td>\n",
       "    </tr>\n",
       "    <tr>\n",
       "      <th>4</th>\n",
       "      <td>2016-02-17</td>\n",
       "      <td>-0.562</td>\n",
       "      <td>0.137</td>\n",
       "      <td>-0.213</td>\n",
       "      <td>-0.1744</td>\n",
       "      <td>-0.5152</td>\n",
       "      <td>0.0130</td>\n",
       "      <td>-0.602000</td>\n",
       "    </tr>\n",
       "    <tr>\n",
       "      <th>...</th>\n",
       "      <td>...</td>\n",
       "      <td>...</td>\n",
       "      <td>...</td>\n",
       "      <td>...</td>\n",
       "      <td>...</td>\n",
       "      <td>...</td>\n",
       "      <td>...</td>\n",
       "      <td>...</td>\n",
       "    </tr>\n",
       "    <tr>\n",
       "      <th>50029</th>\n",
       "      <td>2017-01-25</td>\n",
       "      <td>-1.007</td>\n",
       "      <td>0.638</td>\n",
       "      <td>0.940</td>\n",
       "      <td>-0.0046</td>\n",
       "      <td>0.3900</td>\n",
       "      <td>-0.7713</td>\n",
       "      <td>0.752190</td>\n",
       "    </tr>\n",
       "    <tr>\n",
       "      <th>50030</th>\n",
       "      <td>2017-01-25</td>\n",
       "      <td>-1.314</td>\n",
       "      <td>0.000</td>\n",
       "      <td>1.711</td>\n",
       "      <td>2.7674</td>\n",
       "      <td>2.8544</td>\n",
       "      <td>-2.7873</td>\n",
       "      <td>1.594667</td>\n",
       "    </tr>\n",
       "    <tr>\n",
       "      <th>50031</th>\n",
       "      <td>2017-01-25</td>\n",
       "      <td>-1.124</td>\n",
       "      <td>0.950</td>\n",
       "      <td>1.456</td>\n",
       "      <td>0.4290</td>\n",
       "      <td>0.0460</td>\n",
       "      <td>-0.3703</td>\n",
       "      <td>-0.140476</td>\n",
       "    </tr>\n",
       "    <tr>\n",
       "      <th>50032</th>\n",
       "      <td>2017-01-25</td>\n",
       "      <td>-0.432</td>\n",
       "      <td>0.205</td>\n",
       "      <td>1.976</td>\n",
       "      <td>-0.1886</td>\n",
       "      <td>1.1320</td>\n",
       "      <td>-0.0923</td>\n",
       "      <td>0.229143</td>\n",
       "    </tr>\n",
       "    <tr>\n",
       "      <th>50033</th>\n",
       "      <td>2017-01-25</td>\n",
       "      <td>0.107</td>\n",
       "      <td>0.294</td>\n",
       "      <td>0.777</td>\n",
       "      <td>-0.3548</td>\n",
       "      <td>1.8886</td>\n",
       "      <td>-0.3564</td>\n",
       "      <td>-0.603238</td>\n",
       "    </tr>\n",
       "  </tbody>\n",
       "</table>\n",
       "<p>50030 rows × 8 columns</p>\n",
       "</div>"
      ],
      "text/plain": [
       "            date  feature_0  feature_1  feature_2  feature_3  feature_4  \\\n",
       "0     2016-02-17     -0.376     -0.699     -0.507     0.4536    -0.0752   \n",
       "1     2016-02-17     -1.121      1.073      0.234     0.4986     0.0022   \n",
       "2     2016-02-17     -0.384     -0.097      0.100     0.9720    -0.1626   \n",
       "3     2016-02-17     -0.343      0.542      0.143     0.1034    -0.6422   \n",
       "4     2016-02-17     -0.562      0.137     -0.213    -0.1744    -0.5152   \n",
       "...          ...        ...        ...        ...        ...        ...   \n",
       "50029 2017-01-25     -1.007      0.638      0.940    -0.0046     0.3900   \n",
       "50030 2017-01-25     -1.314      0.000      1.711     2.7674     2.8544   \n",
       "50031 2017-01-25     -1.124      0.950      1.456     0.4290     0.0460   \n",
       "50032 2017-01-25     -0.432      0.205      1.976    -0.1886     1.1320   \n",
       "50033 2017-01-25      0.107      0.294      0.777    -0.3548     1.8886   \n",
       "\n",
       "       feature_5  feature_6  \n",
       "0        -0.2548  -0.191619  \n",
       "1         0.6890  -0.596857  \n",
       "2         0.1913   0.562714  \n",
       "3        -0.1259   0.988381  \n",
       "4         0.0130  -0.602000  \n",
       "...          ...        ...  \n",
       "50029    -0.7713   0.752190  \n",
       "50030    -2.7873   1.594667  \n",
       "50031    -0.3703  -0.140476  \n",
       "50032    -0.0923   0.229143  \n",
       "50033    -0.3564  -0.603238  \n",
       "\n",
       "[50030 rows x 8 columns]"
      ]
     },
     "execution_count": 34,
     "metadata": {},
     "output_type": "execute_result"
    }
   ],
   "source": [
    "data.f_matrix"
   ]
  },
  {
   "cell_type": "code",
   "execution_count": 35,
   "id": "9c9b0c42-a60e-47d0-90f6-e4f59ff67394",
   "metadata": {},
   "outputs": [
    {
     "data": {
      "text/plain": [
       "0"
      ]
     },
     "execution_count": 35,
     "metadata": {},
     "output_type": "execute_result"
    }
   ],
   "source": [
    "data.orthogonalize()"
   ]
  },
  {
   "cell_type": "code",
   "execution_count": 36,
   "id": "4d4f27ef-95c5-4519-b4d0-8e0d7982d26c",
   "metadata": {},
   "outputs": [],
   "source": [
    "f0 = data.f_matrix"
   ]
  },
  {
   "cell_type": "code",
   "execution_count": 21,
   "id": "c50de70f-8046-4cb4-a1ce-9c56bc135ec7",
   "metadata": {},
   "outputs": [
    {
     "name": "stderr",
     "output_type": "stream",
     "text": [
      "  0%|          | 0/7 [00:00<?, ?it/s]\n",
      "100%|██████████| 50/50 [00:00<00:00, 1649.25it/s]\n",
      " 14%|█▍        | 1/7 [00:00<00:01,  5.67it/s]\n",
      "100%|██████████| 50/50 [00:00<00:00, 1598.79it/s]\n",
      " 29%|██▊       | 2/7 [00:00<00:01,  4.99it/s]\n",
      "100%|██████████| 50/50 [00:00<00:00, 1591.10it/s]\n",
      " 43%|████▎     | 3/7 [00:00<00:00,  5.36it/s]\n",
      "100%|██████████| 50/50 [00:00<00:00, 1642.93it/s]\n",
      " 57%|█████▋    | 4/7 [00:00<00:00,  4.57it/s]\n",
      "100%|██████████| 50/50 [00:00<00:00, 1643.79it/s]\n",
      " 71%|███████▏  | 5/7 [00:01<00:00,  4.49it/s]\n",
      "100%|██████████| 50/50 [00:00<00:00, 1654.31it/s]\n",
      "/home/jovyan/work/feature-engineering/src/utils/gauss.py:180: UserWarning: Warning: No convergence after 1000 iterations. Increase max_iter.\n",
      "  warnings.warn(\"Warning: No convergence after %d iterations. Increase max_iter.\" % max_iter)\n",
      " 86%|████████▌ | 6/7 [00:11<00:03,  3.80s/it]\n",
      "100%|██████████| 50/50 [00:00<00:00, 1651.57it/s]\n",
      "100%|██████████| 7/7 [00:12<00:00,  1.72s/it]\n"
     ]
    },
    {
     "data": {
      "text/plain": [
       "0"
      ]
     },
     "execution_count": 21,
     "metadata": {},
     "output_type": "execute_result"
    }
   ],
   "source": [
    "data.gaussianize()"
   ]
  },
  {
   "cell_type": "code",
   "execution_count": 22,
   "id": "c6ca3f4e-4a45-423e-88c4-b6bd62915d74",
   "metadata": {},
   "outputs": [
    {
     "data": {
      "text/html": [
       "<div>\n",
       "<style scoped>\n",
       "    .dataframe tbody tr th:only-of-type {\n",
       "        vertical-align: middle;\n",
       "    }\n",
       "\n",
       "    .dataframe tbody tr th {\n",
       "        vertical-align: top;\n",
       "    }\n",
       "\n",
       "    .dataframe thead th {\n",
       "        text-align: right;\n",
       "    }\n",
       "</style>\n",
       "<table border=\"1\" class=\"dataframe\">\n",
       "  <thead>\n",
       "    <tr style=\"text-align: right;\">\n",
       "      <th></th>\n",
       "      <th>date</th>\n",
       "      <th>feature_0</th>\n",
       "      <th>feature_1</th>\n",
       "      <th>feature_2</th>\n",
       "      <th>feature_3</th>\n",
       "      <th>feature_4</th>\n",
       "      <th>feature_5</th>\n",
       "      <th>feature_6</th>\n",
       "    </tr>\n",
       "  </thead>\n",
       "  <tbody>\n",
       "    <tr>\n",
       "      <th>0</th>\n",
       "      <td>2016-02-17</td>\n",
       "      <td>-0.351441</td>\n",
       "      <td>0.044647</td>\n",
       "      <td>-0.139018</td>\n",
       "      <td>0.016737</td>\n",
       "      <td>-0.010265</td>\n",
       "      <td>0.184375</td>\n",
       "      <td>0.159735</td>\n",
       "    </tr>\n",
       "    <tr>\n",
       "      <th>1</th>\n",
       "      <td>2016-02-17</td>\n",
       "      <td>-0.858209</td>\n",
       "      <td>-0.116943</td>\n",
       "      <td>0.757872</td>\n",
       "      <td>-0.086050</td>\n",
       "      <td>-0.004000</td>\n",
       "      <td>0.245014</td>\n",
       "      <td>-0.061648</td>\n",
       "    </tr>\n",
       "    <tr>\n",
       "      <th>2</th>\n",
       "      <td>2016-02-17</td>\n",
       "      <td>-0.532395</td>\n",
       "      <td>0.012446</td>\n",
       "      <td>0.170782</td>\n",
       "      <td>0.017934</td>\n",
       "      <td>-0.012348</td>\n",
       "      <td>0.168102</td>\n",
       "      <td>-0.108319</td>\n",
       "    </tr>\n",
       "    <tr>\n",
       "      <th>3</th>\n",
       "      <td>2016-02-17</td>\n",
       "      <td>-0.145759</td>\n",
       "      <td>-0.052308</td>\n",
       "      <td>0.146562</td>\n",
       "      <td>0.114401</td>\n",
       "      <td>-0.012690</td>\n",
       "      <td>0.168072</td>\n",
       "      <td>-0.103932</td>\n",
       "    </tr>\n",
       "    <tr>\n",
       "      <th>4</th>\n",
       "      <td>2016-02-17</td>\n",
       "      <td>-0.532945</td>\n",
       "      <td>0.095391</td>\n",
       "      <td>-0.261893</td>\n",
       "      <td>-0.050833</td>\n",
       "      <td>-0.005521</td>\n",
       "      <td>-0.228582</td>\n",
       "      <td>-0.029306</td>\n",
       "    </tr>\n",
       "  </tbody>\n",
       "</table>\n",
       "</div>"
      ],
      "text/plain": [
       "        date  feature_0  feature_1  feature_2  feature_3  feature_4  \\\n",
       "0 2016-02-17  -0.351441   0.044647  -0.139018   0.016737  -0.010265   \n",
       "1 2016-02-17  -0.858209  -0.116943   0.757872  -0.086050  -0.004000   \n",
       "2 2016-02-17  -0.532395   0.012446   0.170782   0.017934  -0.012348   \n",
       "3 2016-02-17  -0.145759  -0.052308   0.146562   0.114401  -0.012690   \n",
       "4 2016-02-17  -0.532945   0.095391  -0.261893  -0.050833  -0.005521   \n",
       "\n",
       "   feature_5  feature_6  \n",
       "0   0.184375   0.159735  \n",
       "1   0.245014  -0.061648  \n",
       "2   0.168102  -0.108319  \n",
       "3   0.168072  -0.103932  \n",
       "4  -0.228582  -0.029306  "
      ]
     },
     "execution_count": 22,
     "metadata": {},
     "output_type": "execute_result"
    }
   ],
   "source": [
    "data.f_matrix.head()"
   ]
  },
  {
   "cell_type": "code",
   "execution_count": 23,
   "id": "f155ee51-08d3-4150-ae5b-e101f3c7d213",
   "metadata": {},
   "outputs": [],
   "source": [
    "f0 =data.f_matrix.feature_0"
   ]
  },
  {
   "cell_type": "code",
   "execution_count": 25,
   "id": "5890b728-5689-46f6-a350-dfc0be356cff",
   "metadata": {},
   "outputs": [
    {
     "data": {
      "text/plain": [
       "<AxesSubplot:>"
      ]
     },
     "execution_count": 25,
     "metadata": {},
     "output_type": "execute_result"
    },
    {
     "data": {
      "image/png": "[encoded data removed]",
      "text/plain": [
       "<Figure size 432x288 with 1 Axes>"
      ]
     },
     "metadata": {
      "needs_background": "light"
     },
     "output_type": "display_data"
    }
   ],
   "source": [
    "f0.hist(bins)"
   ]
  },
  {
   "cell_type": "code",
   "execution_count": null,
   "id": "02205629-d23d-47e2-8f45-59e000780b3c",
   "metadata": {},
   "outputs": [],
   "source": [
    "tg = pd.read_parquet('../data/target.parquet')"
   ]
  },
  {
   "cell_type": "code",
   "execution_count": null,
   "id": "4f667b25-db92-4d1b-bd44-b7c8f5dac31a",
   "metadata": {},
   "outputs": [],
   "source": []
  }
 ],
 "metadata": {
  "kernelspec": {
   "display_name": "Python 3 (ipykernel)",
   "language": "python",
   "name": "python3"
  },
  "language_info": {
   "codemirror_mode": {
    "name": "ipython",
    "version": 3
   },
   "file_extension": ".py",
   "mimetype": "text/x-python",
   "name": "python",
   "nbconvert_exporter": "python",
   "pygments_lexer": "ipython3",
   "version": "3.9.6"
  }
 },
 "nbformat": 4,
 "nbformat_minor": 5
}
