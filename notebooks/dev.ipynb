{
 "cells": [
  {
   "cell_type": "code",
   "execution_count": 3,
   "id": "48664bd2-5e09-4091-a83f-e521dde7a875",
   "metadata": {
    "tags": []
   },
   "outputs": [],
   "source": [
    "# pip install git+https://github.com/crunchdao/feature-engineering.git"
   ]
  },
  {
   "cell_type": "code",
   "execution_count": 304,
   "id": "3beb5a8d-5fc8-4ccc-90d6-028bbdf0a889",
   "metadata": {
    "tags": []
   },
   "outputs": [],
   "source": [
    "import pandas as pd\n",
    "import numpy as np\n",
    "from tqdm.notebook import tqdm\n",
    "\n",
    "tqdm.pandas()\n",
    "import matplotlib.pyplot as plt"
   ]
  },
  {
   "cell_type": "code",
   "execution_count": 305,
   "id": "8cb3864f-0687-4d8f-8c63-c7dd17014860",
   "metadata": {
    "tags": []
   },
   "outputs": [],
   "source": [
    "f_matrix = pd.read_parquet(\"../data/f_matrix.parquet\")\n",
    "b_matrix = pd.read_parquet(\"../data/b_matrix.parquet\")"
   ]
  },
  {
   "cell_type": "code",
   "execution_count": 306,
   "id": "b469d98e-6fc3-4418-9073-1fc48ea22fbb",
   "metadata": {
    "tags": []
   },
   "outputs": [
    {
     "data": {
      "text/html": [
       "<div>\n",
       "<style scoped>\n",
       "    .dataframe tbody tr th:only-of-type {\n",
       "        vertical-align: middle;\n",
       "    }\n",
       "\n",
       "    .dataframe tbody tr th {\n",
       "        vertical-align: top;\n",
       "    }\n",
       "\n",
       "    .dataframe thead th {\n",
       "        text-align: right;\n",
       "    }\n",
       "</style>\n",
       "<table border=\"1\" class=\"dataframe\">\n",
       "  <thead>\n",
       "    <tr style=\"text-align: right;\">\n",
       "      <th></th>\n",
       "      <th>date</th>\n",
       "      <th>feature_0</th>\n",
       "      <th>feature_1</th>\n",
       "      <th>feature_2</th>\n",
       "      <th>feature_3</th>\n",
       "      <th>feature_4</th>\n",
       "      <th>feature_5</th>\n",
       "      <th>feature_6</th>\n",
       "    </tr>\n",
       "  </thead>\n",
       "  <tbody>\n",
       "    <tr>\n",
       "      <th>0</th>\n",
       "      <td>2016-02-17</td>\n",
       "      <td>-0.376</td>\n",
       "      <td>-0.699</td>\n",
       "      <td>-0.507</td>\n",
       "      <td>0.4536</td>\n",
       "      <td>-0.0752</td>\n",
       "      <td>-0.2548</td>\n",
       "      <td>-0.191619</td>\n",
       "    </tr>\n",
       "    <tr>\n",
       "      <th>1</th>\n",
       "      <td>2016-02-17</td>\n",
       "      <td>-1.121</td>\n",
       "      <td>1.073</td>\n",
       "      <td>0.234</td>\n",
       "      <td>0.4986</td>\n",
       "      <td>0.0022</td>\n",
       "      <td>0.6890</td>\n",
       "      <td>-0.596857</td>\n",
       "    </tr>\n",
       "    <tr>\n",
       "      <th>2</th>\n",
       "      <td>2016-02-17</td>\n",
       "      <td>-0.384</td>\n",
       "      <td>-0.097</td>\n",
       "      <td>0.100</td>\n",
       "      <td>0.9720</td>\n",
       "      <td>-0.1626</td>\n",
       "      <td>0.1913</td>\n",
       "      <td>0.562714</td>\n",
       "    </tr>\n",
       "    <tr>\n",
       "      <th>3</th>\n",
       "      <td>2016-02-17</td>\n",
       "      <td>-0.343</td>\n",
       "      <td>0.542</td>\n",
       "      <td>0.143</td>\n",
       "      <td>0.1034</td>\n",
       "      <td>-0.6422</td>\n",
       "      <td>-0.1259</td>\n",
       "      <td>0.988381</td>\n",
       "    </tr>\n",
       "    <tr>\n",
       "      <th>4</th>\n",
       "      <td>2016-02-17</td>\n",
       "      <td>-0.562</td>\n",
       "      <td>0.137</td>\n",
       "      <td>-0.213</td>\n",
       "      <td>-0.1744</td>\n",
       "      <td>-0.5152</td>\n",
       "      <td>0.0130</td>\n",
       "      <td>-0.602000</td>\n",
       "    </tr>\n",
       "  </tbody>\n",
       "</table>\n",
       "</div>"
      ],
      "text/plain": [
       "        date  feature_0  feature_1  feature_2  feature_3  feature_4  \\\n",
       "0 2016-02-17     -0.376     -0.699     -0.507     0.4536    -0.0752   \n",
       "1 2016-02-17     -1.121      1.073      0.234     0.4986     0.0022   \n",
       "2 2016-02-17     -0.384     -0.097      0.100     0.9720    -0.1626   \n",
       "3 2016-02-17     -0.343      0.542      0.143     0.1034    -0.6422   \n",
       "4 2016-02-17     -0.562      0.137     -0.213    -0.1744    -0.5152   \n",
       "\n",
       "   feature_5  feature_6  \n",
       "0    -0.2548  -0.191619  \n",
       "1     0.6890  -0.596857  \n",
       "2     0.1913   0.562714  \n",
       "3    -0.1259   0.988381  \n",
       "4     0.0130  -0.602000  "
      ]
     },
     "metadata": {},
     "output_type": "display_data"
    }
   ],
   "source": [
    "display(f_matrix.head())"
   ]
  },
  {
   "cell_type": "code",
   "execution_count": 307,
   "id": "da492a2f-4941-4177-861f-db4160b8c4ba",
   "metadata": {
    "tags": []
   },
   "outputs": [
    {
     "data": {
      "text/html": [
       "<div>\n",
       "<style scoped>\n",
       "    .dataframe tbody tr th:only-of-type {\n",
       "        vertical-align: middle;\n",
       "    }\n",
       "\n",
       "    .dataframe tbody tr th {\n",
       "        vertical-align: top;\n",
       "    }\n",
       "\n",
       "    .dataframe thead th {\n",
       "        text-align: right;\n",
       "    }\n",
       "</style>\n",
       "<table border=\"1\" class=\"dataframe\">\n",
       "  <thead>\n",
       "    <tr style=\"text-align: right;\">\n",
       "      <th></th>\n",
       "      <th>date</th>\n",
       "      <th>factor_0</th>\n",
       "      <th>factor_1</th>\n",
       "      <th>factor_2</th>\n",
       "      <th>factor_3</th>\n",
       "      <th>factor_4</th>\n",
       "      <th>factor_5</th>\n",
       "      <th>factor_6</th>\n",
       "      <th>factor_7</th>\n",
       "      <th>factor_8</th>\n",
       "      <th>...</th>\n",
       "      <th>factor_74</th>\n",
       "      <th>factor_75</th>\n",
       "      <th>factor_76</th>\n",
       "      <th>factor_77</th>\n",
       "      <th>factor_78</th>\n",
       "      <th>factor_79</th>\n",
       "      <th>factor_80</th>\n",
       "      <th>factor_81</th>\n",
       "      <th>factor_82</th>\n",
       "      <th>factor_83</th>\n",
       "    </tr>\n",
       "  </thead>\n",
       "  <tbody>\n",
       "    <tr>\n",
       "      <th>0</th>\n",
       "      <td>2016-02-17</td>\n",
       "      <td>0.0</td>\n",
       "      <td>0.0</td>\n",
       "      <td>0.0</td>\n",
       "      <td>0.0</td>\n",
       "      <td>0.0</td>\n",
       "      <td>0.0</td>\n",
       "      <td>-0.335</td>\n",
       "      <td>0.0</td>\n",
       "      <td>0.0</td>\n",
       "      <td>...</td>\n",
       "      <td>0.0</td>\n",
       "      <td>0.0</td>\n",
       "      <td>0.0</td>\n",
       "      <td>0.0</td>\n",
       "      <td>-0.143</td>\n",
       "      <td>0.0</td>\n",
       "      <td>0.371</td>\n",
       "      <td>0.0</td>\n",
       "      <td>-0.083</td>\n",
       "      <td>0.0</td>\n",
       "    </tr>\n",
       "    <tr>\n",
       "      <th>1</th>\n",
       "      <td>2016-02-17</td>\n",
       "      <td>0.0</td>\n",
       "      <td>0.0</td>\n",
       "      <td>0.0</td>\n",
       "      <td>0.0</td>\n",
       "      <td>0.0</td>\n",
       "      <td>0.0</td>\n",
       "      <td>-0.699</td>\n",
       "      <td>0.0</td>\n",
       "      <td>0.0</td>\n",
       "      <td>...</td>\n",
       "      <td>0.0</td>\n",
       "      <td>0.0</td>\n",
       "      <td>0.0</td>\n",
       "      <td>0.0</td>\n",
       "      <td>-1.099</td>\n",
       "      <td>0.0</td>\n",
       "      <td>0.000</td>\n",
       "      <td>0.0</td>\n",
       "      <td>-0.051</td>\n",
       "      <td>0.0</td>\n",
       "    </tr>\n",
       "    <tr>\n",
       "      <th>2</th>\n",
       "      <td>2016-02-17</td>\n",
       "      <td>0.0</td>\n",
       "      <td>0.0</td>\n",
       "      <td>0.0</td>\n",
       "      <td>0.0</td>\n",
       "      <td>0.0</td>\n",
       "      <td>0.0</td>\n",
       "      <td>0.084</td>\n",
       "      <td>0.0</td>\n",
       "      <td>0.0</td>\n",
       "      <td>...</td>\n",
       "      <td>0.0</td>\n",
       "      <td>0.0</td>\n",
       "      <td>0.0</td>\n",
       "      <td>0.0</td>\n",
       "      <td>-0.020</td>\n",
       "      <td>0.0</td>\n",
       "      <td>0.000</td>\n",
       "      <td>0.0</td>\n",
       "      <td>-0.156</td>\n",
       "      <td>0.0</td>\n",
       "    </tr>\n",
       "    <tr>\n",
       "      <th>3</th>\n",
       "      <td>2016-02-17</td>\n",
       "      <td>0.0</td>\n",
       "      <td>0.0</td>\n",
       "      <td>0.0</td>\n",
       "      <td>0.0</td>\n",
       "      <td>0.0</td>\n",
       "      <td>0.0</td>\n",
       "      <td>0.105</td>\n",
       "      <td>0.0</td>\n",
       "      <td>0.0</td>\n",
       "      <td>...</td>\n",
       "      <td>0.0</td>\n",
       "      <td>0.0</td>\n",
       "      <td>0.0</td>\n",
       "      <td>0.0</td>\n",
       "      <td>-0.676</td>\n",
       "      <td>0.0</td>\n",
       "      <td>1.000</td>\n",
       "      <td>0.0</td>\n",
       "      <td>-0.682</td>\n",
       "      <td>0.0</td>\n",
       "    </tr>\n",
       "    <tr>\n",
       "      <th>4</th>\n",
       "      <td>2016-02-17</td>\n",
       "      <td>1.0</td>\n",
       "      <td>0.0</td>\n",
       "      <td>0.0</td>\n",
       "      <td>0.0</td>\n",
       "      <td>0.0</td>\n",
       "      <td>0.0</td>\n",
       "      <td>-0.252</td>\n",
       "      <td>0.0</td>\n",
       "      <td>0.0</td>\n",
       "      <td>...</td>\n",
       "      <td>0.0</td>\n",
       "      <td>0.0</td>\n",
       "      <td>0.0</td>\n",
       "      <td>0.0</td>\n",
       "      <td>-0.552</td>\n",
       "      <td>0.0</td>\n",
       "      <td>0.000</td>\n",
       "      <td>0.0</td>\n",
       "      <td>-0.518</td>\n",
       "      <td>0.0</td>\n",
       "    </tr>\n",
       "  </tbody>\n",
       "</table>\n",
       "<p>5 rows × 85 columns</p>\n",
       "</div>"
      ],
      "text/plain": [
       "        date  factor_0  factor_1  factor_2  factor_3  factor_4  factor_5  \\\n",
       "0 2016-02-17       0.0       0.0       0.0       0.0       0.0       0.0   \n",
       "1 2016-02-17       0.0       0.0       0.0       0.0       0.0       0.0   \n",
       "2 2016-02-17       0.0       0.0       0.0       0.0       0.0       0.0   \n",
       "3 2016-02-17       0.0       0.0       0.0       0.0       0.0       0.0   \n",
       "4 2016-02-17       1.0       0.0       0.0       0.0       0.0       0.0   \n",
       "\n",
       "   factor_6  factor_7  factor_8  ...  factor_74  factor_75  factor_76  \\\n",
       "0    -0.335       0.0       0.0  ...        0.0        0.0        0.0   \n",
       "1    -0.699       0.0       0.0  ...        0.0        0.0        0.0   \n",
       "2     0.084       0.0       0.0  ...        0.0        0.0        0.0   \n",
       "3     0.105       0.0       0.0  ...        0.0        0.0        0.0   \n",
       "4    -0.252       0.0       0.0  ...        0.0        0.0        0.0   \n",
       "\n",
       "   factor_77  factor_78  factor_79  factor_80  factor_81  factor_82  factor_83  \n",
       "0        0.0     -0.143        0.0      0.371        0.0     -0.083        0.0  \n",
       "1        0.0     -1.099        0.0      0.000        0.0     -0.051        0.0  \n",
       "2        0.0     -0.020        0.0      0.000        0.0     -0.156        0.0  \n",
       "3        0.0     -0.676        0.0      1.000        0.0     -0.682        0.0  \n",
       "4        0.0     -0.552        0.0      0.000        0.0     -0.518        0.0  \n",
       "\n",
       "[5 rows x 85 columns]"
      ]
     },
     "metadata": {},
     "output_type": "display_data"
    }
   ],
   "source": [
    "display(b_matrix.head())"
   ]
  },
  {
   "cell_type": "code",
   "execution_count": 308,
   "id": "66ed6bb7-6f6f-405a-9e88-95d7e6f09215",
   "metadata": {
    "tags": []
   },
   "outputs": [],
   "source": [
    "class dev_Data:\n",
    "    def __init__(self, f_matrix, b_matrix):\n",
    "        \"\"\"\n",
    "        f_matrix:   features.parquet\n",
    "        b_matrix:   factor_matrix.parquet\n",
    "        \"\"\"\n",
    "        self.f_matrix = f_matrix\n",
    "        self.b_matrix = b_matrix\n",
    "\n",
    "    def exposure(self):\n",
    "        \"\"\"\n",
    "        Returns: the f_exposure (measure of orthogonality of f_matrix to b_matrix)\n",
    "        \"\"\"\n",
    "\n",
    "        def loc_exposure(f_mat_temp):\n",
    "            features = f_mat_temp.columns[1:]\n",
    "            b_mat_temp = self.b_matrix.loc[\n",
    "                self.b_matrix[\"date\"].isin(f_mat_temp[\"date\"]),\n",
    "                self.b_matrix.columns[1:],\n",
    "            ]\n",
    "            fact_exp_lis = []\n",
    "            for feature in features:\n",
    "                M = np.array(f_mat_temp[feature])\n",
    "                factor_exposure = np.dot(b_mat_temp.to_numpy().T, M)\n",
    "                fact_exp_lis.append(factor_exposure)\n",
    "            fact_exp_matrix = np.array(fact_exp_lis)\n",
    "            return fact_exp_matrix\n",
    "\n",
    "        f_exp_matrix = self.f_matrix.groupby(\"date\", group_keys=False).apply(lambda x: loc_exposure(x))\n",
    "        return f_exp_matrix\n",
    "\n",
    "    def orthogonalize(self, beta_coeff=0.0):\n",
    "        \"\"\"\n",
    "        Cross-sectionally project f to be orthogonal to the subspace spanned by B,\n",
    "        with respect to the dot product, in a least square sense.\n",
    "        \"\"\"\n",
    "\n",
    "        def loc_orthogonalize(f_mat_temp):\n",
    "            print(f'Epoch: {f_mat_temp[\"date\"].iloc[0]}')\n",
    "            features = f_mat_temp.columns[1:]\n",
    "            b_mat_temp = self.b_matrix.loc[\n",
    "                self.b_matrix[\"date\"].isin(f_mat_temp[\"date\"]),\n",
    "                self.b_matrix.columns[1:],\n",
    "            ]\n",
    "\n",
    "            b_pinv_temp = np.linalg.pinv(b_mat_temp)\n",
    "            for feature in features:\n",
    "                m = np.array(f_mat_temp[feature])\n",
    "                m_parallel = np.dot(b_mat_temp.to_numpy(), np.dot(b_pinv_temp, m))\n",
    "\n",
    "                if beta_coeff > 0:\n",
    "                    mean_bf = np.mean(np.dot(b_mat_temp.to_numpy().T, m))\n",
    "                    m -= (1 - beta_coeff / mean_bf) * m_parallel\n",
    "                else:\n",
    "                    m -= m_parallel\n",
    "\n",
    "                f_mat_temp[feature] = m\n",
    "            return f_mat_temp\n",
    "\n",
    "        self.f_matrix = self.f_matrix.groupby(\"date\", group_keys=False).progress_apply(\n",
    "            lambda x: loc_orthogonalize(x)\n",
    "        )\n",
    "        return 0"
   ]
  },
  {
   "cell_type": "code",
   "execution_count": 309,
   "id": "fd165255-aac2-47f5-afde-c691d0174194",
   "metadata": {
    "tags": []
   },
   "outputs": [
    {
     "data": {
      "application/vnd.jupyter.widget-view+json": {
       "model_id": "686fd4a972d14658bdecdf1c52f6fefa",
       "version_major": 2,
       "version_minor": 0
      },
      "text/plain": [
       "  0%|          | 0/50 [00:00<?, ?it/s]"
      ]
     },
     "metadata": {},
     "output_type": "display_data"
    },
    {
     "name": "stdout",
     "output_type": "stream",
     "text": [
      "Epoch: 2016-02-17 00:00:00\n",
      "Epoch: 2016-02-24 00:00:00\n",
      "Epoch: 2016-03-02 00:00:00\n",
      "Epoch: 2016-03-09 00:00:00\n",
      "Epoch: 2016-03-16 00:00:00\n",
      "Epoch: 2016-03-23 00:00:00\n",
      "Epoch: 2016-03-30 00:00:00\n",
      "Epoch: 2016-04-06 00:00:00\n",
      "Epoch: 2016-04-13 00:00:00\n",
      "Epoch: 2016-04-20 00:00:00\n",
      "Epoch: 2016-04-27 00:00:00\n",
      "Epoch: 2016-05-04 00:00:00\n",
      "Epoch: 2016-05-11 00:00:00\n",
      "Epoch: 2016-05-18 00:00:00\n",
      "Epoch: 2016-05-25 00:00:00\n",
      "Epoch: 2016-06-01 00:00:00\n",
      "Epoch: 2016-06-08 00:00:00\n",
      "Epoch: 2016-06-15 00:00:00\n",
      "Epoch: 2016-06-22 00:00:00\n",
      "Epoch: 2016-06-29 00:00:00\n",
      "Epoch: 2016-07-06 00:00:00\n",
      "Epoch: 2016-07-13 00:00:00\n",
      "Epoch: 2016-07-20 00:00:00\n",
      "Epoch: 2016-07-27 00:00:00\n",
      "Epoch: 2016-08-03 00:00:00\n",
      "Epoch: 2016-08-10 00:00:00\n",
      "Epoch: 2016-08-17 00:00:00\n",
      "Epoch: 2016-08-24 00:00:00\n",
      "Epoch: 2016-08-31 00:00:00\n",
      "Epoch: 2016-09-07 00:00:00\n",
      "Epoch: 2016-09-14 00:00:00\n",
      "Epoch: 2016-09-21 00:00:00\n",
      "Epoch: 2016-09-28 00:00:00\n",
      "Epoch: 2016-10-05 00:00:00\n",
      "Epoch: 2016-10-12 00:00:00\n",
      "Epoch: 2016-10-19 00:00:00\n",
      "Epoch: 2016-10-26 00:00:00\n",
      "Epoch: 2016-11-02 00:00:00\n",
      "Epoch: 2016-11-09 00:00:00\n",
      "Epoch: 2016-11-16 00:00:00\n",
      "Epoch: 2016-11-23 00:00:00\n",
      "Epoch: 2016-11-30 00:00:00\n",
      "Epoch: 2016-12-07 00:00:00\n",
      "Epoch: 2016-12-14 00:00:00\n",
      "Epoch: 2016-12-21 00:00:00\n",
      "Epoch: 2016-12-28 00:00:00\n",
      "Epoch: 2017-01-04 00:00:00\n",
      "Epoch: 2017-01-11 00:00:00\n",
      "Epoch: 2017-01-18 00:00:00\n",
      "Epoch: 2017-01-25 00:00:00\n"
     ]
    },
    {
     "data": {
      "text/plain": [
       "0"
      ]
     },
     "execution_count": 309,
     "metadata": {},
     "output_type": "execute_result"
    }
   ],
   "source": [
    "devdata = dev_Data(f_matrix=f_matrix, b_matrix=b_matrix)\n",
    "devdata.orthogonalize(beta_coeff=0.005)"
   ]
  },
  {
   "cell_type": "code",
   "execution_count": 310,
   "id": "4f667b25-db92-4d1b-bd44-b7c8f5dac31a",
   "metadata": {
    "tags": []
   },
   "outputs": [],
   "source": [
    "exp = devdata.exposure()"
   ]
  },
  {
   "cell_type": "code",
   "execution_count": 312,
   "id": "f85f48eb-1b13-4422-b1d7-057824ac66d1",
   "metadata": {
    "tags": []
   },
   "outputs": [
    {
     "data": {
      "text/plain": [
       "[<matplotlib.lines.Line2D at 0x7ff67ad494e0>]"
      ]
     },
     "execution_count": 312,
     "metadata": {},
     "output_type": "execute_result"
    },
    {
     "data": {
      "image/png": "[encoded data removed]",
      "text/plain": [
       "<Figure size 640x480 with 1 Axes>"
      ]
     },
     "metadata": {},
     "output_type": "display_data"
    }
   ],
   "source": [
    "for i in exp.index:\n",
    "    plt.plot(exp.iloc[0][1, :])"
   ]
  },
  {
   "cell_type": "code",
   "execution_count": 311,
   "id": "42589300-42cb-4d6c-a11b-310251c2a837",
   "metadata": {
    "tags": []
   },
   "outputs": [
    {
     "data": {
      "text/plain": [
       "date\n",
       "2016-02-17    [[-0.004937137492627697, 0.0009657269244665034...\n",
       "2016-02-24    [[-0.0026960085684653023, 0.01065586828867593,...\n",
       "2016-03-02    [[-0.0031775425721800588, 0.00144748428389474,...\n",
       "2016-03-09    [[0.005793193255613005, -0.006763925738987431,...\n",
       "2016-03-16    [[0.02939564924449556, -0.009501382597518482, ...\n",
       "2016-03-23    [[-0.020488139810276085, -0.008526054551702966...\n",
       "2016-03-30    [[-0.012593083577523645, 0.03359834992736077, ...\n",
       "2016-04-06    [[0.0034111472936697584, -0.006704594416827914...\n",
       "2016-04-13    [[0.012977701562168487, -0.012620126437913992,...\n",
       "2016-04-20    [[0.005549867431459354, -0.0028554707715007233...\n",
       "2016-04-27    [[-0.011425932662569416, -0.0078988980356835, ...\n",
       "2016-05-04    [[0.00040026275768767494, 0.001305778435443327...\n",
       "2016-05-11    [[-0.005625487903693882, 0.010354561464004042,...\n",
       "2016-05-18    [[-0.034355082383850766, 0.06336948636283224, ...\n",
       "2016-05-25    [[0.005883694104275805, -0.007367722135404264,...\n",
       "2016-06-01    [[0.005602398610172643, -0.0024258140952357343...\n",
       "2016-06-08    [[0.015362099638748683, 0.007210244822264178, ...\n",
       "2016-06-15    [[0.0067682242236905, -0.0022768109311323004, ...\n",
       "2016-06-22    [[0.006711293602686075, -0.0004448105687646642...\n",
       "2016-06-29    [[0.003635398005645052, -0.0002600791779417966...\n",
       "2016-07-06    [[-0.002705140180276233, 0.000445245830364982,...\n",
       "2016-07-13    [[0.002473365690664142, -0.0007501907829883248...\n",
       "2016-07-20    [[-0.0146931463808595, -0.01552607407214568, -...\n",
       "2016-07-27    [[-0.0059982339438591215, -0.00550134964261106...\n",
       "2016-08-03    [[0.014977337809812585, -0.12106497481975653, ...\n",
       "2016-08-10    [[-0.017600964347444625, 0.01089982284072466, ...\n",
       "2016-08-17    [[0.0007624587268862393, 0.0065374928814802, 0...\n",
       "2016-08-24    [[0.0017635036846561647, -0.002167638873099897...\n",
       "2016-08-31    [[-0.0036197986667829696, 0.006134726450622185...\n",
       "2016-09-07    [[0.0017268276217827783, -0.00899216482502152,...\n",
       "2016-09-14    [[-0.005257531475074462, 0.013933005078001104,...\n",
       "2016-09-21    [[-0.02070516582831261, -0.0038023194875750344...\n",
       "2016-09-28    [[0.017072282581070797, 0.05841232056427392, -...\n",
       "2016-10-05    [[-0.01181651914450188, 0.03334992504215972, -...\n",
       "2016-10-12    [[-0.006887022075300231, -0.004503245206664563...\n",
       "2016-10-19    [[-0.015625439139558273, -0.007570176009133567...\n",
       "2016-10-26    [[-0.005390665318149732, 0.006784446815443657,...\n",
       "2016-11-02    [[-0.0016674987823934728, 0.08627229066891573,...\n",
       "2016-11-09    [[-0.004399517118711671, -0.00645413153465374,...\n",
       "2016-11-16    [[0.007223135287965032, 0.004471961000393598, ...\n",
       "2016-11-23    [[-0.0010852658716167252, 7.785722761943781e-0...\n",
       "2016-11-30    [[0.0022266896679590253, 0.0006623087283029738...\n",
       "2016-12-07    [[0.0038436678010194125, -0.004517003214967952...\n",
       "2016-12-14    [[-0.013862868217322522, 0.0009576605356137469...\n",
       "2016-12-21    [[-0.005410549555174504, -4.776644941589803e-0...\n",
       "2016-12-28    [[0.0018562290332524434, -0.024312032146454388...\n",
       "2017-01-04    [[0.008195716031811517, -0.005317874055351501,...\n",
       "2017-01-11    [[0.003848005508459984, 0.00022735088371406142...\n",
       "2017-01-18    [[0.006297359754846521, -0.0022762941506253576...\n",
       "2017-01-25    [[0.03692933308463631, 0.012226642968646173, -...\n",
       "dtype: object"
      ]
     },
     "metadata": {},
     "output_type": "display_data"
    }
   ],
   "source": [
    "display(exp)"
   ]
  },
  {
   "cell_type": "code",
   "execution_count": null,
   "id": "7614dfc1-62ae-456b-9bad-bf8fd3750ecf",
   "metadata": {},
   "outputs": [],
   "source": []
  }
 ],
 "metadata": {
  "kernelspec": {
   "display_name": "Python 3 (ipykernel)",
   "language": "python",
   "name": "python3"
  },
  "language_info": {
   "codemirror_mode": {
    "name": "ipython",
    "version": 3
   },
   "file_extension": ".py",
   "mimetype": "text/x-python",
   "name": "python",
   "nbconvert_exporter": "python",
   "pygments_lexer": "ipython3",
   "version": "3.10.11"
  },
  "vscode": {
   "interpreter": {
    "hash": "089b01a02bffe9aaebf7c1d1c15dfcabf0b6eb8680835f8b4303bc7c7964f23e"
   }
  }
 },
 "nbformat": 4,
 "nbformat_minor": 5
}
